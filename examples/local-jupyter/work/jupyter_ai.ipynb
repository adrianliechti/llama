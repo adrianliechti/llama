{
 "cells": [
  {
   "cell_type": "code",
   "execution_count": null,
   "id": "efd136aa-cac0-4e6e-be32-539b39b41aca",
   "metadata": {},
   "outputs": [],
   "source": [
    "%load_ext jupyter_ai_magics"
   ]
  },
  {
   "cell_type": "code",
   "execution_count": null,
   "id": "37ad48b9-fd8f-4d8d-b273-37d19805ecc5",
   "metadata": {},
   "outputs": [],
   "source": [
    "%%ai chatgpt\n",
    "write a program to calculate pi"
   ]
  }
 ],
 "metadata": {
  "kernelspec": {
   "display_name": "Python 3 (ipykernel)",
   "language": "python",
   "name": "python3"
  },
  "language_info": {
   "codemirror_mode": {
    "name": "ipython",
    "version": 3
   },
   "file_extension": ".py",
   "mimetype": "text/x-python",
   "name": "python",
   "nbconvert_exporter": "python",
   "pygments_lexer": "ipython3",
   "version": "3.12.8"
  }
 },
 "nbformat": 4,
 "nbformat_minor": 5
}
