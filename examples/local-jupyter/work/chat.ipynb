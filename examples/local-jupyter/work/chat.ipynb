{
 "cells": [
  {
   "cell_type": "code",
   "execution_count": null,
   "id": "a3941a09-b3e6-4d0d-8dca-913c1b4fe3ac",
   "metadata": {},
   "outputs": [],
   "source": [
    "!pip install langchain langchain-openai"
   ]
  },
  {
   "cell_type": "code",
   "execution_count": 2,
   "id": "d1106a13-73de-444e-bf8a-7e6dd764f08e",
   "metadata": {},
   "outputs": [],
   "source": [
    "from langchain_openai import ChatOpenAI\n",
    "\n",
    "model = ChatOpenAI(model=\"mistral\", openai_api_base=\"http://platform:8080/oai/v1\", openai_api_key=\"NA\")"
   ]
  },
  {
   "cell_type": "code",
   "execution_count": null,
   "id": "45e12094-010e-47f2-9993-8a206bb097ad",
   "metadata": {},
   "outputs": [],
   "source": [
    "from langchain_core.prompts import ChatPromptTemplate, MessagesPlaceholder\n",
    "\n",
    "prompt = ChatPromptTemplate.from_messages(\n",
    "    [\n",
    "        (\"system\", \"You are a helpful assistant.\"),\n",
    "        MessagesPlaceholder(\"chat_history\", optional=True),\n",
    "        (\"human\", \"{input}\"),\n",
    "        MessagesPlaceholder(\"agent_scratchpad\", optional=True),\n",
    "    ]\n",
    ")\n",
    "\n",
    "chain = prompt | model"
   ]
  },
  {
   "cell_type": "code",
   "execution_count": null,
   "id": "be4c03a7",
   "metadata": {},
   "outputs": [],
   "source": [
    "!pip install langserve[all]"
   ]
  },
  {
   "cell_type": "code",
   "execution_count": null,
   "id": "71683ab8-cb07-4820-9f8b-7f00245aaa1a",
   "metadata": {},
   "outputs": [],
   "source": [
    "import uvicorn\n",
    "import asyncio\n",
    "\n",
    "from fastapi import FastAPI\n",
    "from langserve import add_routes\n",
    "\n",
    "app = FastAPI(title=\"LangServe LLM Platform Example\")\n",
    "add_routes(app, chain)\n",
    "\n",
    "if __name__ == \"__main__\":\n",
    "    config = uvicorn.Config(app, host=\"0.0.0.0\", port=9999)\n",
    "    server = uvicorn.Server(config)\n",
    "    await server.serve()"
   ]
  }
 ],
 "metadata": {
  "kernelspec": {
   "display_name": "Python 3 (ipykernel)",
   "language": "python",
   "name": "python3"
  },
  "language_info": {
   "codemirror_mode": {
    "name": "ipython",
    "version": 3
   },
   "file_extension": ".py",
   "mimetype": "text/x-python",
   "name": "python",
   "nbconvert_exporter": "python",
   "pygments_lexer": "ipython3",
   "version": "3.11.7"
  }
 },
 "nbformat": 4,
 "nbformat_minor": 5
}
